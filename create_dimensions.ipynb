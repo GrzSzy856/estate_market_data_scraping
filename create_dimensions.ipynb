{
 "cells": [
  {
   "cell_type": "code",
   "execution_count": 2,
   "metadata": {},
   "outputs": [],
   "source": [
    "import pandas as pd\n",
    "import numpy as np\n",
    "import itertools"
   ]
  },
  {
   "cell_type": "code",
   "execution_count": 3,
   "metadata": {},
   "outputs": [],
   "source": [
    "#dim_date\n",
    "\n",
    "date_range = pd.date_range(start='1900-01-01', end='2050-01-01', freq='D')\n",
    "\n",
    "dim_date = pd.DataFrame({\n",
    "    'pk_date_id': date_range.strftime('%Y%m%d').astype(int),\n",
    "    'date': date_range,\n",
    "    'day': date_range.day,\n",
    "    'weekday': date_range.weekday + 1,  # Monday=1, Sunday=7\n",
    "    'weekday_name': date_range.day_name(),\n",
    "    'month': date_range.month,\n",
    "    'monthname': date_range.month_name(),\n",
    "    'quarter': date_range.quarter,\n",
    "    'quartername': [\"Q\" + str(q) for q in date_range.quarter],\n",
    "    'year': date_range.year,\n",
    "    'monthyear': date_range.strftime('%m-%Y'),\n",
    "    'isweekend': np.where(date_range.weekday >= 5, 'Weekend', 'Weekday'),\n",
    "})\n"
   ]
  },
  {
   "cell_type": "code",
   "execution_count": 4,
   "metadata": {},
   "outputs": [],
   "source": [
    "#dim_source_type\n",
    "dim_source_type_data = {'pk_source_id':[-1, 1, 2], \n",
    "                        'source_type':['Unknown', 'OLX', 'OtoDom']}\n",
    "dim_source_type = pd.DataFrame(data = dim_source_type_data)"
   ]
  },
  {
   "cell_type": "code",
   "execution_count": 5,
   "metadata": {},
   "outputs": [],
   "source": [
    "#dim_city\n",
    "dim_city_data = {'pk_city_id': [-1, 1, 2, 3, 4],\n",
    "  'city_name': ['Unknown', 'Katowice', 'Kraków', 'Warszawa', 'Wrocław'],\n",
    "  'voivodeship': ['Unknown', 'Śląskie', 'Małopolskie', 'Mazowieckie', 'Dolnośląskie'],\n",
    "  'country': ['Unknown', 'Poland', 'Poland', 'Poland', 'Poland']}\n",
    "dim_city = pd.DataFrame(data = dim_city_data)"
   ]
  },
  {
   "cell_type": "code",
   "execution_count": 6,
   "metadata": {},
   "outputs": [],
   "source": [
    "#dim_market_type\n",
    "dim_market_type_data = {'pk_market_type_id':[-1, 1, 2], \n",
    "                        'market_type':['Unknown', 'Primary', 'Secondary']}\n",
    "dim_market_type = pd.DataFrame(data = dim_market_type_data)"
   ]
  },
  {
   "cell_type": "code",
   "execution_count": 7,
   "metadata": {},
   "outputs": [],
   "source": [
    "#dim_offer_characteristics\n",
    "garage_data = ['Unknown', 'garage', 'no_garage']\n",
    "heating_data = ['Unknown', 'urban', 'boiler_room', 'gas', 'electrical', 'other', 'tiled_stove']\n",
    "lift_data = ['Unknown', 'lift', 'no_lift']\n",
    "furniture_data =['Unknown', 'furniture', 'no_furniture']\n",
    "\n",
    "cartesian_product = list(itertools.product(garage_data, heating_data, lift_data, furniture_data))\n",
    "\n",
    "dim_offer_characteristics = pd.DataFrame(cartesian_product, columns=['car_garage', 'heating', 'lift', 'furniture'])\n",
    "dim_offer_characteristics.insert(0, 'id', range(1, len(dim_offer_characteristics) + 1))"
   ]
  },
  {
   "cell_type": "code",
   "execution_count": 8,
   "metadata": {},
   "outputs": [],
   "source": [
    "dim_date.to_csv(r'C:\\code\\Projekt Data Scraping\\data\\dim_date.csv', sep=',', index=False)\n",
    "dim_source_type.to_csv(r'C:\\code\\Projekt Data Scraping\\data\\dim_source_type.csv', sep=',', index=False)\n",
    "dim_city.to_csv(r'C:\\code\\Projekt Data Scraping\\data\\dim_city.csv', sep=',', index=False)\n",
    "dim_market_type.to_csv(r'C:\\code\\Projekt Data Scraping\\data\\dim_market_type.csv', sep=',', index=False)\n",
    "dim_offer_characteristics.to_csv(r'C:\\code\\Projekt Data Scraping\\data\\dim_offer_characteristics.csv', sep=',', index=False)"
   ]
  },
  {
   "cell_type": "code",
   "execution_count": 10,
   "metadata": {},
   "outputs": [],
   "source": [
    "dim_offer_characteristics.to_clipboard()"
   ]
  },
  {
   "cell_type": "code",
   "execution_count": null,
   "metadata": {},
   "outputs": [],
   "source": []
  }
 ],
 "metadata": {
  "kernelspec": {
   "display_name": "base",
   "language": "python",
   "name": "python3"
  },
  "language_info": {
   "codemirror_mode": {
    "name": "ipython",
    "version": 3
   },
   "file_extension": ".py",
   "mimetype": "text/x-python",
   "name": "python",
   "nbconvert_exporter": "python",
   "pygments_lexer": "ipython3",
   "version": "3.9.13"
  }
 },
 "nbformat": 4,
 "nbformat_minor": 2
}
